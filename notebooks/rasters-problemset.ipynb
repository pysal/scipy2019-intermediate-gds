{
 "cells": [
  {
   "cell_type": "code",
   "execution_count": 1,
   "metadata": {},
   "outputs": [],
   "source": [
    "import rasterio\n",
    "import numpy\n",
    "import pandas\n",
    "import geopandas\n",
    "import matplotlib.pyplot as plt\n",
    "%matplotlib inline"
   ]
  },
  {
   "cell_type": "markdown",
   "metadata": {},
   "source": [
    "## Read in the `austinlights.tif` file we made in the `rasters` notebook"
   ]
  },
  {
   "cell_type": "markdown",
   "metadata": {},
   "source": [
    "## Make a `nightlights_extent` array containing the extent of the nightlight raster.\n",
    "\n",
    "the `bounds` attribute from the `nightlight_file` will be helpful. "
   ]
  },
  {
   "cell_type": "markdown",
   "metadata": {},
   "source": [
    "## Read in the Ausin 311 data"
   ]
  },
  {
   "cell_type": "markdown",
   "metadata": {},
   "source": [
    "## Clean the 311 data:\n",
    "\n",
    "1. This time, we'll simply ignore the missing points. Drop the values with missing `latitude`, `longitude`, or `location` attributes. \n",
    "2. Keep only tickets whose `status` suggests they're reports with full information that are not duplicated. \n",
    "3. Remove impossible latitude/longitudes using the `nightlight_extent` you made earlier. "
   ]
  },
  {
   "cell_type": "markdown",
   "metadata": {},
   "source": [
    "## Make a geodataframe from the reports data"
   ]
  },
  {
   "cell_type": "markdown",
   "metadata": {},
   "source": [
    "## Identify whether your zipcodes are accurately coded\n",
    "1. First, build a convex hull around points within the same area\n",
    "2. Then, plot the convex hulls to see if they overlap/make sense. "
   ]
  },
  {
   "cell_type": "markdown",
   "metadata": {},
   "source": [
    "## What is the highest, lowest, and median nighttime brightness within these three zipcodes?\n",
    "1. 78705\n",
    "2. 78702\n",
    "3. 78701"
   ]
  },
  {
   "cell_type": "markdown",
   "metadata": {},
   "source": [
    "## What is the brightness at each of the streetlight issues in the 311 dataset?"
   ]
  }
 ],
 "metadata": {
  "kernelspec": {
   "display_name": "Analysis",
   "language": "python",
   "name": "ana"
  },
  "language_info": {
   "codemirror_mode": {
    "name": "ipython",
    "version": 3
   },
   "file_extension": ".py",
   "mimetype": "text/x-python",
   "name": "python",
   "nbconvert_exporter": "python",
   "pygments_lexer": "ipython3",
   "version": "3.7.2"
  }
 },
 "nbformat": 4,
 "nbformat_minor": 2
}
