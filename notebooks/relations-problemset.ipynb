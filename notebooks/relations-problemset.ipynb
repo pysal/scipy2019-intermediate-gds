{
 "cells": [
  {
   "cell_type": "code",
   "execution_count": 1,
   "metadata": {},
   "outputs": [],
   "source": [
    "import pandas\n",
    "import numpy\n",
    "import geopandas\n",
    "import matplotlib.pyplot as plt\n",
    "import geopy\n",
    "%matplotlib inline"
   ]
  },
  {
   "cell_type": "markdown",
   "metadata": {},
   "source": [
    "## Read in the Austin 311 data\n",
    "It's in the `data` folder, called `austin_311`. "
   ]
  },
  {
   "cell_type": "markdown",
   "metadata": {},
   "source": [
    "## What are the 10 most common types of events in the data?"
   ]
  },
  {
   "cell_type": "markdown",
   "metadata": {},
   "source": [
    "## Fixing missing latitude/longitude values\n",
    "1. how many records have a missing latitude/longitude pair? \n",
    "2. using the `location` field and the geocoding tools we discussed before, create latitude/longitude pairs for the records with missing `latitude` and `longitude` values.\n",
    "3. update your dataframe with the new geocoded `longitude` and `latitude` values.\n",
    "4. show that there is no missing latitude/longitude values in the updated data."
   ]
  },
  {
   "cell_type": "markdown",
   "metadata": {},
   "source": [
    "## Fixing missing addresses"
   ]
  },
  {
   "cell_type": "markdown",
   "metadata": {},
   "source": [
    "1. how many records are missing `location` field entries?\n",
    "2. using the `latitude` and `longitude` fields, find the street locations for the records with missing `location` values. \n",
    "3. update your dataframe with the new `location` values. (**BONUS: Update the `street_number`, `street_name`, and `zipcode` if you can, too**)\n",
    "4. show that there are no more missing `location` values in your data. "
   ]
  },
  {
   "cell_type": "markdown",
   "metadata": {},
   "source": [
    "## Check miscoded latitude, longitude values. "
   ]
  },
  {
   "cell_type": "markdown",
   "metadata": {},
   "source": [
    "Use the total bounds of the austin neighborhoods data to identify observations that may be mis-coded as outside of Austin.\n"
   ]
  },
  {
   "cell_type": "markdown",
   "metadata": {},
   "source": [
    "## Remove duplicate reports"
   ]
  },
  {
   "cell_type": "markdown",
   "metadata": {},
   "source": [
    "311 data is very dirty. Let's keep only tickets whose `status` suggests they're reports with full information that are not duplicated. "
   ]
  },
  {
   "cell_type": "markdown",
   "metadata": {},
   "source": [
    "## Build a GeoDataFrame from the locations"
   ]
  },
  {
   "cell_type": "markdown",
   "metadata": {},
   "source": [
    "## Make a map of the report instances with a basemap"
   ]
  },
  {
   "cell_type": "markdown",
   "metadata": {},
   "source": [
    "## How many incidents with the Public Health department are within each neighborhood?"
   ]
  },
  {
   "cell_type": "markdown",
   "metadata": {},
   "source": [
    "## How many public health events are within 1km of each airbnb downtown?"
   ]
  },
  {
   "cell_type": "markdown",
   "metadata": {},
   "source": [
    "## What's the event type that is closest to each airbnb in Austin?"
   ]
  }
 ],
 "metadata": {
  "kernelspec": {
   "display_name": "Analysis",
   "language": "python",
   "name": "ana"
  },
  "language_info": {
   "codemirror_mode": {
    "name": "ipython",
    "version": 3
   },
   "file_extension": ".py",
   "mimetype": "text/x-python",
   "name": "python",
   "nbconvert_exporter": "python",
   "pygments_lexer": "ipython3",
   "version": "3.7.2"
  }
 },
 "nbformat": 4,
 "nbformat_minor": 2
}
